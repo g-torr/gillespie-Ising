{
 "cells": [
  {
   "cell_type": "markdown",
   "metadata": {
    "deletable": true,
    "editable": true
   },
   "source": [
    "# Problem 1: Calculating $\\pi$ with Monte Carlo\n",
    "\n",
    "The aim of this first problem is to write a code that calculates the value of $\\pi$ as discussed in the lecture. Recall that the idea is to place a circle of radius 1 inside a square of length 2. \"Stones\" are then randomly thrown into the square and the ones that land in the circle are counted. As more stones are thrown $\\pi$ can be approximated by $4 N_c/N_s$. Effectively, this amounts to:\n",
    "\n",
    "\n",
    "- Generate $x$ and $y$ random variables on (-1,+1)\n",
    "- Check the condition $x^2 + y^2 < 1$ \n",
    "- $N_c = N_c +1$ if the above condition is true \n",
    "- $N_s = N_s + 1$ always\n",
    "- Calculate $\\pi$\n",
    "\n",
    "Goal: show that the Monte Carlo error for the estimatation of $\\pi$ goes as $1/\\sqrt{N}$, where $N$ is the number of Monte Carlo runs. "
   ]
  },
  {
   "cell_type": "code",
   "execution_count": 61,
   "metadata": {
    "collapsed": true,
    "deletable": true,
    "editable": true
   },
   "outputs": [],
   "source": [
    "for i in arange(5,25):\n",
    "    N=2**i\n",
    "    x=-1+2*rand(N)\n",
    "    y=-1+2*rand(N)\n",
    "    N_in=count_nonzero((x**2+y**2)<1)\n",
    "    area=4*N_in/N\n",
    "    plot(N,abs(area-pi),\"bo\")"
   ]
  },
  {
   "cell_type": "markdown",
   "metadata": {
    "deletable": true,
    "editable": true
   },
   "source": [
    "# Problem 2: Markov Chain Monte Carlo for the Ising Model "
   ]
  },
  {
   "cell_type": "markdown",
   "metadata": {
    "deletable": true,
    "editable": true
   },
   "source": [
    "The aim of this example is to study the two-dimensional Ising Model using a Monte Carlo algorithm and to see whether we can find evidence for a phase transition even though we will deal with a finite system. Recall the discussion of the Ising Model from the lecture.\n",
    "\n",
    "To practically solve this problem in Python, for the moment we will only deal with with the **(i)** setup of the problem and **(ii)** how to implement the Metropolis algorithm  "
   ]
  },
  {
   "cell_type": "markdown",
   "metadata": {
    "deletable": true,
    "editable": true
   },
   "source": [
    "### (i) Setup up a Class for the Ising Model \n",
    "\n",
    "To start we can establish a class for configuring the Ising Model. The constructor (__init__) should take T (temperature),J (interaction),L (lattice size) which will completely define the lattice structure. The spins can then take random values of $\\pm 1$ on the $L \\times L$ lattice. \n",
    "\n",
    "In addition to the constructor, the class should have energy and magenetisation methods that return the energy and magnetisation of the chosen Configuration. \n",
    "\n",
    "To that end, the class should have the following general structure:"
   ]
  },
  {
   "cell_type": "raw",
   "metadata": {
    "deletable": true,
    "editable": true
   },
   "source": [
    "class Configuration(object):\n",
    "    def __init__(self, L,T, ...):\n",
    "        self.size = L\n",
    "        self.beta = 1/T\n",
    "        self.spins = ...\n",
    "        ...\n",
    "    def energy(self):\n",
    "        ... ## energy expression\n",
    "        return e\n",
    "    def magnetization(self):\n",
    "        ... ## magnetisation expression \n",
    "        return m"
   ]
  },
  {
   "cell_type": "markdown",
   "metadata": {
    "deletable": true,
    "editable": true
   },
   "source": [
    "To make sure that the class that you have written is working the $\\pm 1$ elements of the can be converted to an image and then plotted with Matplotlib: "
   ]
  },
  {
   "cell_type": "raw",
   "metadata": {
    "deletable": true,
    "editable": true
   },
   "source": [
    "def config_to_image(config):\n",
    "    L = config.size\n",
    "    im = np.zeros([L,L,3])\n",
    "    for i,j in itertools.product(range(L), repeat=2):\n",
    "        im[i,j,:] = (1.,0,0) if config.spins[i,j]==1 else (0.,0,0)\n",
    "    return im\n",
    "\n",
    "import matplotlib.pyplot as plt\n",
    "plt.imshow(config_to_image(config))"
   ]
  },
  {
   "cell_type": "markdown",
   "metadata": {
    "deletable": true,
    "editable": true
   },
   "source": [
    "Calling:\n",
    "$\\mathbb{J}$ the coupling matrix, $\\mathbb{S}$ the spin matrix, The energy is  the convolution of matrix $\\mathbb{S}$ with $\\mathbb{J}$\n",
    "$$\n",
    "E=\\frac{1}{2} \\left[\\mathbb{S}*\\mathbb{J}\\right]\n",
    "$$\n",
    "where $\\frac{1}{2}$ avoids double counting"
   ]
  },
  {
   "cell_type": "code",
   "execution_count": 3,
   "metadata": {
    "collapsed": true,
    "deletable": true,
    "editable": true
   },
   "outputs": [],
   "source": [
    "class Ising(object):\n",
    "    def __init__(self,T,J,N):\n",
    "        self.T=T\n",
    "        self.J=J\n",
    "        #self.L=L\n",
    "        self.N=N# dimension of the problem\n",
    "        self.spin=2*(rand(self.N,self.N)>0.5)-1 # matrix of spin\n",
    "        self.couplings=J*[[0,1,0],[1,0,1],[0,1,0]]\n",
    "        self.mask=array([[(i+j)%2 for i in arange(0,N)] for j in arange (0,N)])#this is the chessboard pattern\n",
    "        self.E=self.energy2()\n",
    "        #self.spin=reshape(append(self.spin,self.spin[:,0]),(self.N,self.N+1))\n",
    "        #self.spin=reshape(append(self.spin,self.spin[0,:]),(self.N+1,self.N+1))\n",
    "    def energy(self):\n",
    "        E=0\n",
    "        S=self.spin\n",
    "        N=self.N\n",
    "        for i in arange(0,N):\n",
    "            for j in arange(0,N):\n",
    "                E+=self.J*(S[i,j]*S[i,(j+1)%N]+S[i,j]*S[i,j-1]+S[i,j]*S[i-1,j]+S[i,j]*S[(i+1)%N,j])\n",
    "        #self.E=E\n",
    "        return E\n",
    "    def energy2(self):       \n",
    "        return -0.5*sum(self.spin*convolve2d(self.spin,self.couplings,\"same\",boundary=\"wrap\")) #make the matrix product between spin matrix and the coupling matrix\n",
    "    def energy_difference(self,i,j):# after - before\n",
    "        S=self.spin\n",
    "        N=self.N\n",
    "        #print(i)\n",
    "        submatrix=S[[i-1,i,(i+1)%N]][:,[j-1,j,(j+1)%N]]# select the submatrix of size 3  centered in  (i,j) \n",
    "        return submatrix[1,1]*convolve2d(submatrix,self.couplings,\"valid\") # the energy difference  is twice the energy term, with the  opposite sign\n",
    "    def move(self):\n",
    "        i,j=randint(0,self.N,2)\n",
    "        delta_E= self.energy_difference(i,j)\n",
    "        if delta_E<0: self.spin[i,j]*=-1\n",
    "        elif random_sample()<exp(-delta_E/self.T):\n",
    "             self.spin[i,j]*=-1\n",
    "        return self.spin\n",
    "        \n",
    "        \n",
    "    def magnetisation(self):\n",
    "        return mean(self.spin) #total magnetization\n",
    "        \n",
    "    def show(self):\n",
    "        imshow(self.spin)"
   ]
  },
  {
   "cell_type": "code",
   "execution_count": 1,
   "metadata": {
    "collapsed": true,
    "deletable": true,
    "editable": true
   },
   "outputs": [],
   "source": [
    "from pylab import *\n",
    "from scipy.signal import convolve2d\n",
    "%matplotlib inline"
   ]
  },
  {
   "cell_type": "markdown",
   "metadata": {
    "collapsed": false,
    "deletable": true,
    "editable": true
   },
   "source": [
    "model = Ising(T=1.2,J=1,N=20)\n",
    "model.show()\n",
    "k=0\n",
    "dati=[]\n",
    "while k<10:\n",
    "    dati+=[model.magnetisation()]\n",
    "    model.move()\n",
    "    k+=1\n",
    "figure()\n",
    "model.show()\n",
    "figure()\n",
    "plot(dati)"
   ]
  },
  {
   "cell_type": "code",
   "execution_count": 4,
   "metadata": {
    "collapsed": false,
    "deletable": true,
    "editable": true
   },
   "outputs": [
    {
     "data": {
      "text/plain": [
       "[<matplotlib.lines.Line2D at 0x7f63577bb208>]"
      ]
     },
     "execution_count": 4,
     "metadata": {},
     "output_type": "execute_result"
    },
    {
     "data": {
      "image/png": "[encoded data removed]",
      "text/plain": [
       "<matplotlib.figure.Figure at 0x7f635ac76dd8>"
      ]
     },
     "metadata": {},
     "output_type": "display_data"
    },
    {
     "data": {
      "image/png": "[encoded data removed]",
      "text/plain": [
       "<matplotlib.figure.Figure at 0x7f6391beaf98>"
      ]
     },
     "metadata": {},
     "output_type": "display_data"
    },
    {
     "data": {
      "image/png": "[encoded data removed]",
      "text/plain": [
       "<matplotlib.figure.Figure at 0x7f63578a00b8>"
      ]
     },
     "metadata": {},
     "output_type": "display_data"
    }
   ],
   "source": [
    "model = Ising(T=0.1,J=1,N=20)\n",
    "model.show()\n",
    "k=0\n",
    "dati=[]\n",
    "while k<10000:\n",
    "    dati+=[model.magnetisation()]\n",
    "    model.move()\n",
    "    k+=1\n",
    "figure()\n",
    "model.show()\n",
    "figure()\n",
    "plot(dati)"
   ]
  },
  {
   "cell_type": "code",
   "execution_count": 101,
   "metadata": {
    "collapsed": false,
    "deletable": true,
    "editable": true
   },
   "outputs": [
    {
     "data": {
      "text/plain": [
       "array([[22, 22, 31, 34],\n",
       "       [52, 50, 61, 65],\n",
       "       [61, 55, 70, 67],\n",
       "       [28, 27, 37, 42]])"
      ]
     },
     "execution_count": 101,
     "metadata": {},
     "output_type": "execute_result"
    },
    {
     "data": {
      "image/png": "[encoded data removed]",
      "text/plain": [
       "<matplotlib.figure.Figure at 0x7f4f4fdd9dd8>"
      ]
     },
     "metadata": {},
     "output_type": "display_data"
    }
   ],
   "source": [
    "plot(convolve([1,2,3,4,5,6],[1,2,3,4,5,6],\"full\"))\n",
    "convolve2d([[2,3,5,7],[11,13,17,20],[17,19,23,30],[1,2,4,7]],[[0,1,0],[1,0,1],[0,1,0]],\"same\",boundary=\"wrap\")"
   ]
  },
  {
   "cell_type": "markdown",
   "metadata": {
    "deletable": true,
    "editable": true
   },
   "source": [
    "### (ii) The Metropolis Move \n",
    "\n",
    "The Metroplis Monte Carlo move should take an a specific Ising configuration and propose a move to another configuration according to the Metropolis Algorithm. To that end, a function can be written that computes the energy difference between the new and old configurations. The function should return a configuration decided by the acceptance criteria of the Metroplis algorithm."
   ]
  },
  {
   "cell_type": "raw",
   "metadata": {
    "deletable": true,
    "editable": true
   },
   "source": [
    " def metropolis_move(config):"
   ]
  },
  {
   "cell_type": "markdown",
   "metadata": {
    "deletable": true,
    "editable": true
   },
   "source": [
    "The rest of the problem will be discussed in the nest session."
   ]
  },
  {
   "cell_type": "code",
   "execution_count": 1,
   "metadata": {
    "collapsed": false,
    "deletable": true,
    "editable": true
   },
   "outputs": [
    {
     "name": "stdout",
     "output_type": "stream",
     "text": [
      "Using matplotlib backend: Qt5Agg\n",
      "Populating the interactive namespace from numpy and matplotlib\n"
     ]
    }
   ],
   "source": [
    "%pylab"
   ]
  },
  {
   "cell_type": "code",
   "execution_count": 90,
   "metadata": {
    "collapsed": false,
    "deletable": true,
    "editable": true
   },
   "outputs": [
    {
     "data": {
      "text/plain": [
       "[<matplotlib.lines.Line2D at 0x7f77e54f6fd0>]"
      ]
     },
     "execution_count": 90,
     "metadata": {},
     "output_type": "execute_result"
    }
   ],
   "source": []
  },
  {
   "cell_type": "code",
   "execution_count": 78,
   "metadata": {
    "collapsed": true,
    "deletable": true,
    "editable": true
   },
   "outputs": [],
   "source": [
    "N=10"
   ]
  },
  {
   "cell_type": "code",
   "execution_count": 88,
   "metadata": {
    "collapsed": false,
    "deletable": true,
    "editable": true
   },
   "outputs": [
    {
     "data": {
      "text/plain": [
       "array([[ 1,  1, -1,  1,  1, -1, -1, -1, -1,  1],\n",
       "       [-1, -1,  1,  1,  1, -1, -1, -1,  1, -1],\n",
       "       [-1, -1,  1, -1,  1, -1, -1,  1, -1, -1],\n",
       "       [ 1,  1, -1, -1,  1,  1, -1,  1,  1, -1],\n",
       "       [-1, -1,  1,  1,  1, -1, -1, -1,  1, -1],\n",
       "       [-1, -1,  1,  1, -1,  1,  1, -1, -1,  1],\n",
       "       [ 1, -1,  1, -1,  1, -1,  1,  1,  1,  1],\n",
       "       [-1, -1, -1, -1,  1,  1,  1,  1, -1, -1],\n",
       "       [ 1,  1,  1,  1, -1, -1, -1,  1, -1,  1],\n",
       "       [ 1,  1, -1,  1,  1, -1, -1,  1, -1,  1]])"
      ]
     },
     "execution_count": 88,
     "metadata": {},
     "output_type": "execute_result"
    }
   ],
   "source": [
    "imshow"
   ]
  },
  {
   "cell_type": "code",
   "execution_count": 89,
   "metadata": {
    "collapsed": false,
    "deletable": true,
    "editable": true
   },
   "outputs": [
    {
     "ename": "SyntaxError",
     "evalue": "invalid syntax (<ipython-input-89-613b3a549fdb>, line 4)",
     "output_type": "error",
     "traceback": [
      "\u001b[0;36m  File \u001b[0;32m\"<ipython-input-89-613b3a549fdb>\"\u001b[0;36m, line \u001b[0;32m4\u001b[0m\n\u001b[0;31m    E+=A[i%,j]*A[i,j+1]+A[i,j]*A[i,j-1]+A[i,j]*A[i-1,j]+A[i,j]*A[i+1,j]\u001b[0m\n\u001b[0m           ^\u001b[0m\n\u001b[0;31mSyntaxError\u001b[0m\u001b[0;31m:\u001b[0m invalid syntax\n"
     ]
    }
   ],
   "source": [
    "E=0\n",
    "for i in arange(0,N):\n",
    "    for j in arange(0,N):\n",
    "        E+=A[i%,j]*A[i,j+1]+A[i,j]*A[i,j-1]+A[i,j]*A[i-1,j]+A[i,j]*A[i+1,j]"
   ]
  },
  {
   "cell_type": "code",
   "execution_count": 79,
   "metadata": {
    "collapsed": false,
    "deletable": true,
    "editable": true
   },
   "outputs": [
    {
     "ename": "TypeError",
     "evalue": "__init__() takes 4 positional arguments but 5 were given",
     "output_type": "error",
     "traceback": [
      "\u001b[0;31m---------------------------------------------------------------------------\u001b[0m",
      "\u001b[0;31mTypeError\u001b[0m                                 Traceback (most recent call last)",
      "\u001b[0;32m<ipython-input-79-cad26ba8f718>\u001b[0m in \u001b[0;36m<module>\u001b[0;34m()\u001b[0m\n\u001b[1;32m      1\u001b[0m \u001b[0;32mfor\u001b[0m \u001b[0mT\u001b[0m \u001b[0;32min\u001b[0m \u001b[0mlinspace\u001b[0m\u001b[0;34m(\u001b[0m\u001b[0;34m-\u001b[0m\u001b[0;36m10\u001b[0m\u001b[0;34m,\u001b[0m\u001b[0;36m10\u001b[0m\u001b[0;34m)\u001b[0m\u001b[0;34m:\u001b[0m\u001b[0;34m\u001b[0m\u001b[0m\n\u001b[0;32m----> 2\u001b[0;31m     \u001b[0mIs\u001b[0m\u001b[0;34m=\u001b[0m\u001b[0mIsing\u001b[0m\u001b[0;34m(\u001b[0m\u001b[0mT\u001b[0m\u001b[0;34m,\u001b[0m\u001b[0;36m1\u001b[0m\u001b[0;34m,\u001b[0m\u001b[0;36m1\u001b[0m\u001b[0;34m,\u001b[0m\u001b[0;36m10\u001b[0m\u001b[0;34m)\u001b[0m\u001b[0;34m\u001b[0m\u001b[0m\n\u001b[0m\u001b[1;32m      3\u001b[0m     \u001b[0mplot\u001b[0m\u001b[0;34m(\u001b[0m\u001b[0mT\u001b[0m\u001b[0;34m,\u001b[0m\u001b[0mIs\u001b[0m\u001b[0;34m.\u001b[0m\u001b[0mmagnetisation\u001b[0m\u001b[0;34m(\u001b[0m\u001b[0;34m)\u001b[0m\u001b[0;34m,\u001b[0m\u001b[0;34m\"o\"\u001b[0m\u001b[0;34m)\u001b[0m\u001b[0;34m\u001b[0m\u001b[0m\n",
      "\u001b[0;31mTypeError\u001b[0m: __init__() takes 4 positional arguments but 5 were given"
     ]
    }
   ],
   "source": [
    "for T in linspace(-10,10):\n",
    "    Is=Ising(T,1,1,10)\n",
    "    plot(T,Is.magnetisation(),\"o\")"
   ]
  },
  {
   "cell_type": "code",
   "execution_count": 86,
   "metadata": {
    "collapsed": false,
    "deletable": true,
    "editable": true
   },
   "outputs": [
    {
     "data": {
      "text/plain": [
       "19"
      ]
     },
     "execution_count": 86,
     "metadata": {},
     "output_type": "execute_result"
    }
   ],
   "source": [
    "sum(A)"
   ]
  },
  {
   "cell_type": "code",
   "execution_count": 57,
   "metadata": {
    "collapsed": false,
    "deletable": true,
    "editable": true
   },
   "outputs": [
    {
     "data": {
      "text/plain": [
       "array([[ 1, -1, -1,  1],\n",
       "       [ 1, -1, -1, -1],\n",
       "       [-1,  1,  1, -1]])"
      ]
     },
     "execution_count": 57,
     "metadata": {},
     "output_type": "execute_result"
    }
   ],
   "source": [
    "reshape(append(A,A[:,0]),(3,4))"
   ]
  },
  {
   "cell_type": "code",
   "execution_count": 337,
   "metadata": {
    "collapsed": false,
    "deletable": true,
    "editable": true
   },
   "outputs": [
    {
     "name": "stdout",
     "output_type": "stream",
     "text": [
      "[[ 0  1  2  3  4]\n",
      " [ 5  6  7  8  9]\n",
      " [10 11 12 13 14]\n",
      " [15 16 17 18 19]\n",
      " [20 21 22 23 24]]\n",
      "[[19 15 16]\n",
      " [24 20 21]\n",
      " [ 4  0  1]]\n"
     ]
    },
    {
     "data": {
      "text/plain": [
       "array([[1200]])"
      ]
     },
     "execution_count": 337,
     "metadata": {},
     "output_type": "execute_result"
    }
   ],
   "source": [
    "A=reshape(arange(0,25),(5,5))\n",
    "print(A)\n",
    "B=A[[3,4,0]][:,[-1,0,1]]\n",
    "print(B)\n",
    "convolve2d(B,J,\"valid\")*B[1,1]\n",
    "#shape(A[[J]])"
   ]
  },
  {
   "cell_type": "code",
   "execution_count": 355,
   "metadata": {
    "collapsed": false,
    "deletable": true,
    "editable": true
   },
   "outputs": [
    {
     "name": "stdout",
     "output_type": "stream",
     "text": [
      "[[ 0  1  2  3  4]\n",
      " [ 5  6  7  8  9]\n",
      " [10 11 12 13 14]\n",
      " [15 16 17 18 19]\n",
      " [20 21 22 23 24]]\n",
      "2 4\n"
     ]
    },
    {
     "data": {
      "text/plain": [
       "14"
      ]
     },
     "execution_count": 355,
     "metadata": {},
     "output_type": "execute_result"
    }
   ],
   "source": [
    "print(A)\n",
    "i,j=randint(0,4+1,2)\n",
    "print(i,j)\n",
    "A[i,j]\n"
   ]
  },
  {
   "cell_type": "code",
   "execution_count": 31,
   "metadata": {
    "collapsed": false,
    "deletable": true,
    "editable": true
   },
   "outputs": [
    {
     "data": {
      "text/plain": [
       "array([ 0,  1,  2,  3,  4,  5,  6,  7,  8,  9, 10])"
      ]
     },
     "execution_count": 31,
     "metadata": {},
     "output_type": "execute_result"
    }
   ],
   "source": [
    "arange(-1,10)+1%4"
   ]
  },
  {
   "cell_type": "code",
   "execution_count": 94,
   "metadata": {
    "collapsed": false,
    "deletable": true,
    "editable": true
   },
   "outputs": [
    {
     "data": {
      "text/plain": [
       "42"
      ]
     },
     "execution_count": 94,
     "metadata": {},
     "output_type": "execute_result"
    }
   ],
   "source": [
    "sum(array([[1,1,1],[2,2,2],[3,3,3]])*array([[1,1,1],[2,2,2],[3,3,3]]))"
   ]
  },
  {
   "cell_type": "code",
   "execution_count": 3,
   "metadata": {
    "collapsed": false,
    "deletable": true,
    "editable": true
   },
   "outputs": [],
   "source": [
    "convolve2d?"
   ]
  },
  {
   "cell_type": "code",
   "execution_count": 10,
   "metadata": {
    "collapsed": false,
    "deletable": true,
    "editable": true
   },
   "outputs": [],
   "source": [
    "class Spin_Glass(object):\n",
    "    def __init__(self,T,J,N):\n",
    "        self.T=T\n",
    "        self.J=J\n",
    "        #self.L=L\n",
    "        self.N=N# dimension of the problem\n",
    "        self.spin=2*(rand(self.N,self.N)>0.5)-1 # matrix of spin\n",
    "        self.couplings=J*(2*rand(self.N,self.N)-1)\n",
    "        self.mask=array([[(i+j)%2 for i in arange(0,N)] for j in arange (0,N)])#this is the chessboard pattern\n",
    "        self.E=self.energy2()\n",
    "        #self.spin=reshape(append(self.spin,self.spin[:,0]),(self.N,self.N+1))\n",
    "        #self.spin=reshape(append(self.spin,self.spin[0,:]),(self.N+1,self.N+1))\n",
    "    def energy(self):\n",
    "        E=0\n",
    "        S=self.spin\n",
    "        N=self.N\n",
    "        for i in arange(0,N):\n",
    "            for j in arange(0,N):\n",
    "                E+=self.J*(S[i,j]*S[i,(j+1)%N]+S[i,j]*S[i,j-1]+S[i,j]*S[i-1,j]+S[i,j]*S[(i+1)%N,j])\n",
    "        #self.E=E\n",
    "        return E\n",
    "    def energy2(self):       \n",
    "        return -0.5*sum(self.spin*convolve2d(self.spin,self.couplings,\"same\",boundary=\"wrap\")) #make the matrix product between spin matrix and the coupling matrix\n",
    "    def energy_difference(self,i,j):# after - before\n",
    "        S=self.spin\n",
    "        N=self.N\n",
    "        J=self.couplings[[i-1,i,(i+1)%N]][:,[j-1,j,(j+1)%N]]\n",
    "        #print(i)\n",
    "        submatrix=S[[i-1,i,(i+1)%N]][:,[j-1,j,(j+1)%N]]# select the submatrix of size 3  centered in  (i,j) \n",
    "        return submatrix[1,1]*convolve2d(submatrix,J,\"valid\") # the energy difference  is twice the energy term, with the  opposite sign\n",
    "    def move(self):\n",
    "        i,j=randint(0,self.N,2)\n",
    "        delta_E= self.energy_difference(i,j)\n",
    "        if delta_E<0: self.spin[i,j]*=-1\n",
    "        elif random_sample()<exp(-delta_E/self.T):\n",
    "             self.spin[i,j]*=-1\n",
    "        return self.spin\n",
    "        \n",
    "        \n",
    "    def magnetisation(self):\n",
    "        return mean(self.spin) #total magnetization\n",
    "        \n",
    "    def show(self):\n",
    "        imshow(self.spin)"
   ]
  },
  {
   "cell_type": "code",
   "execution_count": 16,
   "metadata": {
    "collapsed": false,
    "deletable": true,
    "editable": true
   },
   "outputs": [],
   "source": [
    "spin_glass=Spin_Glass(1,1,10)"
   ]
  },
  {
   "cell_type": "code",
   "execution_count": 22,
   "metadata": {
    "collapsed": false,
    "deletable": true,
    "editable": true
   },
   "outputs": [
    {
     "data": {
      "text/plain": [
       "<matplotlib.image.AxesImage at 0x7feaf43b36d8>"
      ]
     },
     "execution_count": 22,
     "metadata": {},
     "output_type": "execute_result"
    },
    {
     "data": {
      "image/png": "[encoded data removed]",
      "text/plain": [
       "<matplotlib.figure.Figure at 0x7feaf6404630>"
      ]
     },
     "metadata": {},
     "output_type": "display_data"
    },
    {
     "data": {
      "image/png": "[encoded data removed]",
      "text/plain": [
       "<matplotlib.figure.Figure at 0x7feaf58785f8>"
      ]
     },
     "metadata": {},
     "output_type": "display_data"
    },
    {
     "data": {
      "image/png": "[encoded data removed]",
      "text/plain": [
       "<matplotlib.figure.Figure at 0x7feaf5878f98>"
      ]
     },
     "metadata": {},
     "output_type": "display_data"
    }
   ],
   "source": [
    "spin_glass.show()\n",
    "k=0\n",
    "dati=[]\n",
    "while k<1000000:\n",
    "    dati+=[spin_glass.magnetisation()]\n",
    "    spin_glass.move()\n",
    "    k+=1\n",
    "figure()\n",
    "spin_glass.show()\n",
    "figure()\n",
    "plot(dati)\n",
    "imshow(spin_glass.couplings)"
   ]
  },
  {
   "cell_type": "code",
   "execution_count": 56,
   "metadata": {
    "collapsed": false,
    "deletable": true,
    "editable": true
   },
   "outputs": [
    {
     "name": "stdout",
     "output_type": "stream",
     "text": [
      "[[ 0  1  2  3  4  5]\n",
      " [ 6  7  8  9 10 11]\n",
      " [12 13 14 15 16 17]\n",
      " [18 19 20 21 22 23]\n",
      " [24 25 26 27 28 29]\n",
      " [30 31 32 33 34 35]]\n",
      "[[ 0  2  4]\n",
      " [12 14 16]\n",
      " [24 26 28]]\n",
      "[[ 6  8 10]\n",
      " [18 20 22]\n",
      " [30 32 34]]\n",
      "[[ 1  3  5]\n",
      " [13 15 17]\n",
      " [25 27 29]]\n",
      "[[ 7  9 11]\n",
      " [19 21 23]\n",
      " [31 33 35]]\n"
     ]
    }
   ],
   "source": [
    "S=arange(0,36).reshape(6,6)\n",
    "print(S)\n",
    "print(S[row[::2,::2],col[::2,::2]])#even indexes\n",
    "print(S[row[1::2,0::2],col[1::2,0::2]])#odd indexes\n",
    "print(S[row[0::2,1::2],col[0::2,1::2]])#odd indexes\n",
    "print(S[row[1::2,1::2],col[1::2,1::2]])#odd indexes"
   ]
  },
  {
   "cell_type": "code",
   "execution_count": 41,
   "metadata": {
    "collapsed": false,
    "deletable": true,
    "editable": true
   },
   "outputs": [
    {
     "data": {
      "text/plain": [
       "array([[ 6,  8, 10],\n",
       "       [18, 20, 22],\n",
       "       [30, 32, 34],\n",
       "       [ 1,  3,  5],\n",
       "       [13, 15, 17],\n",
       "       [25, 27, 29]])"
      ]
     },
     "execution_count": 41,
     "metadata": {},
     "output_type": "execute_result"
    }
   ],
   "source": [
    "A=append(S[row[1::2,0::2],col[1::2,0::2]],S[row[0::2,1::2],col[0::2,1::2]],axis=0)\n",
    "#B=append(A,S[row[1::2,1::2],col[1::2,1::2]],axis=1)\n",
    "A"
   ]
  },
  {
   "cell_type": "code",
   "execution_count": 52,
   "metadata": {
    "collapsed": false,
    "deletable": true,
    "editable": true
   },
   "outputs": [
    {
     "data": {
      "text/plain": [
       "array([[0, 1, 0, 1, 0, 1],\n",
       "       [1, 0, 1, 0, 1, 0],\n",
       "       [0, 1, 0, 1, 0, 1],\n",
       "       [1, 0, 1, 0, 1, 0],\n",
       "       [0, 1, 0, 1, 0, 1],\n",
       "       [1, 0, 1, 0, 1, 0]])"
      ]
     },
     "execution_count": 52,
     "metadata": {},
     "output_type": "execute_result"
    }
   ],
   "source": [
    "mask=array([[(i+j)%2 for i in arange(0,N)] for j in arange (0,N)])\n",
    "mask"
   ]
  },
  {
   "cell_type": "code",
   "execution_count": 58,
   "metadata": {
    "collapsed": false,
    "deletable": true,
    "editable": true
   },
   "outputs": [],
   "source": [
    "A=S\n",
    "A[mask==0]*=-1"
   ]
  },
  {
   "cell_type": "code",
   "execution_count": 59,
   "metadata": {
    "collapsed": false,
    "deletable": true,
    "editable": true
   },
   "outputs": [
    {
     "data": {
      "text/plain": [
       "array([[  0,   1,  -2,   3,  -4,   5],\n",
       "       [  6,  -7,   8,  -9,  10, -11],\n",
       "       [-12,  13, -14,  15, -16,  17],\n",
       "       [ 18, -19,  20, -21,  22, -23],\n",
       "       [-24,  25, -26,  27, -28,  29],\n",
       "       [ 30, -31,  32, -33,  34, -35]])"
      ]
     },
     "execution_count": 59,
     "metadata": {},
     "output_type": "execute_result"
    }
   ],
   "source": [
    "A"
   ]
  },
  {
   "cell_type": "code",
   "execution_count": null,
   "metadata": {
    "collapsed": true,
    "deletable": true,
    "editable": true
   },
   "outputs": [],
   "source": []
  }
 ],
 "metadata": {
  "kernelspec": {
   "display_name": "Python 3",
   "language": "python",
   "name": "python3"
  },
  "language_info": {
   "codemirror_mode": {
    "name": "ipython",
    "version": 3
   },
   "file_extension": ".py",
   "mimetype": "text/x-python",
   "name": "python",
   "nbconvert_exporter": "python",
   "pygments_lexer": "ipython3",
   "version": "3.5.2"
  }
 },
 "nbformat": 4,
 "nbformat_minor": 2
}
