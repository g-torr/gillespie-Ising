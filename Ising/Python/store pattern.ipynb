{
 "cells": [
  {
   "cell_type": "code",
   "execution_count": 4,
   "metadata": {
    "collapsed": true,
    "deletable": true,
    "editable": true
   },
   "outputs": [],
   "source": [
    "from pylab import *\n",
    "from scipy.signal import convolve2d\n",
    "%matplotlib inline"
   ]
  },
  {
   "cell_type": "code",
   "execution_count": 73,
   "metadata": {
    "collapsed": false,
    "deletable": true,
    "editable": true
   },
   "outputs": [],
   "source": [
    "class Ising(object):\n",
    "    def __init__(self,T,J,theta):\n",
    "        self.T=T\n",
    "        self.N=len(J) # dimension of the problem\n",
    "        self.spin=2*(rand(self.N,self.N)>0.5)-1 # matrix of spin\n",
    "        self.J=J\n",
    "        self.theta=theta\n",
    "        self.mask=array([[(i+j)%2 for i in arange(0,self.N)] for j in arange (0,self.N)])#this is the chessboard pattern\n",
    "        #self.E=self.energy2()\n",
    "        #self.spin=reshape(append(self.spin,self.spin[:,0]),(self.N,self.N+1))\n",
    "        #self.spin=reshape(append(self.spin,self.spin[0,:]),(self.N+1,self.N+1))\n",
    "    '''def energy(self):\n",
    "        E=0\n",
    "        S=self.spin\n",
    "        N=self.N\n",
    "        for i in arange(0,N):\n",
    "            for j in arange(0,N):\n",
    "                E+=self.J*(S[i,j]*S[i,(j+1)%N]+S[i,j]*S[i,j-1]+S[i,j]*S[i-1,j]+S[i,j]*S[(i+1)%N,j])\n",
    "        #self.E=E\n",
    "        return E'''\n",
    "    def energy2(self):       \n",
    "        return -0.5*sum(self.spin*convolve2d(self.spin,self.couplings,\"same\",boundary=\"wrap\")) #make the matrix product between spin matrix and the coupling matrix\n",
    "    def energy_difference(self,i,j):# after - before\n",
    "        S=self.spin\n",
    "        effective_field=S*self.J\n",
    "        return 2*effective_field[i,j]*(sum(effective_field)-effective_field[i,j])+2*self.theta*S[i,j]\n",
    "        #print(i)\n",
    "        \n",
    "        \n",
    "    def move(self):\n",
    "        i,j=randint(0,self.N,2)\n",
    "        delta_E= self.energy_difference(i,j)\n",
    "        if delta_E<0: self.spin[i,j]*=-1\n",
    "        elif random_sample()<exp(-delta_E/self.T):\n",
    "             self.spin[i,j]*=-1\n",
    "        return self.spin\n",
    "        \n",
    "        \n",
    "    def magnetisation(self):\n",
    "        return mean(self.spin*self.J) #total magnetization\n",
    "        \n",
    "    def show(self):\n",
    "        imshow(self.spin)"
   ]
  },
  {
   "cell_type": "markdown",
   "metadata": {
    "deletable": true,
    "editable": true
   },
   "source": [
    "Create pattern to be stored"
   ]
  },
  {
   "cell_type": "code",
   "execution_count": 51,
   "metadata": {
    "collapsed": false,
    "deletable": true,
    "editable": true
   },
   "outputs": [
    {
     "data": {
      "text/plain": [
       "<matplotlib.colorbar.Colorbar at 0x7f5720ed9550>"
      ]
     },
     "execution_count": 51,
     "metadata": {},
     "output_type": "execute_result"
    },
    {
     "data": {
      "image/png": "[encoded data removed]",
      "text/plain": [
       "<matplotlib.figure.Figure at 0x7f5720ea3be0>"
      ]
     },
     "metadata": {},
     "output_type": "display_data"
    },
    {
     "data": {
      "image/png": "[encoded data removed]",
      "text/plain": [
       "<matplotlib.figure.Figure at 0x7f5720f72a20>"
      ]
     },
     "metadata": {},
     "output_type": "display_data"
    },
    {
     "data": {
      "image/png": "[encoded data removed]",
      "text/plain": [
       "<matplotlib.figure.Figure at 0x7f572109a518>"
      ]
     },
     "metadata": {},
     "output_type": "display_data"
    },
    {
     "data": {
      "text/plain": [
       "<matplotlib.figure.Figure at 0x7f5721a6e3c8>"
      ]
     },
     "metadata": {},
     "output_type": "display_data"
    },
    {
     "data": {
      "image/png": "[encoded data removed]",
      "text/plain": [
       "<matplotlib.figure.Figure at 0x7f5721382dd8>"
      ]
     },
     "metadata": {},
     "output_type": "display_data"
    }
   ],
   "source": [
    "J=zeros((10,10))+1\n",
    "J[4:7,4:7]=-1\n",
    "imshow(J)\n",
    "title(\"J\")\n",
    "colorbar()\n",
    "figure()\n",
    "G=zeros((10,10))+1;\n",
    "G[1:3,1:7]=-1\n",
    "title(\"G\")\n",
    "imshow(G)\n",
    "colorbar()\n",
    "figure()\n",
    "H=zeros((10,10))+1\n",
    "H[5:9,5:9]=-1;\n",
    "imshow(H)\n",
    "colorbar()\n",
    "figure()\n",
    "I=zeros((10,10))+1\n",
    "I[7:10,0:9]=-1;\n",
    "figure()\n",
    "imshow(I)\n",
    "colorbar()\n",
    "\n",
    "#J=(J+G)/2"
   ]
  },
  {
   "cell_type": "markdown",
   "metadata": {
    "collapsed": true,
    "deletable": true,
    "editable": true
   },
   "source": [
    "$$\n",
    "       H[\\sigma]=-\\sum_{j}\\sum_{k>j}\\sigma_j\\sigma_k\\xi_j\\xi_k-\\sum_j\\theta_j\\sigma_j\n",
    "$$\n",
    "\n",
    "$$\n",
    "     \\Delta H=H[F_i\\sigma]-H[\\sigma]=2\\sigma_i \\xi_i\\sum_{k\\neq i}\\sigma_k\\xi_k+2\\theta_i\\sigma_i\n",
    "$$"
   ]
  },
  {
   "cell_type": "code",
   "execution_count": 87,
   "metadata": {
    "collapsed": false,
    "deletable": true,
    "editable": true
   },
   "outputs": [
    {
     "name": "stdout",
     "output_type": "stream",
     "text": [
      "The pattern of interaction is:\n",
      "now run the simulation:\n"
     ]
    },
    {
     "data": {
      "text/plain": [
       "[<matplotlib.lines.Line2D at 0x7f572030be48>]"
      ]
     },
     "execution_count": 87,
     "metadata": {},
     "output_type": "execute_result"
    },
    {
     "data": {
      "image/png": "[encoded data removed]",
      "text/plain": [
       "<matplotlib.figure.Figure at 0x7f5720dca7b8>"
      ]
     },
     "metadata": {},
     "output_type": "display_data"
    },
    {
     "data": {
      "image/png": "[encoded data removed]",
      "text/plain": [
       "<matplotlib.figure.Figure at 0x7f5720509668>"
      ]
     },
     "metadata": {},
     "output_type": "display_data"
    },
    {
     "data": {
      "image/png": "[encoded data removed]",
      "text/plain": [
       "<matplotlib.figure.Figure at 0x7f57202b8908>"
      ]
     },
     "metadata": {},
     "output_type": "display_data"
    },
    {
     "data": {
      "image/png": "[encoded data removed]",
      "text/plain": [
       "<matplotlib.figure.Figure at 0x7f5720292320>"
      ]
     },
     "metadata": {},
     "output_type": "display_data"
    }
   ],
   "source": [
    "J_temp=(J+G)/2# but it does not work if (J+G)/2\n",
    "theta=0.1\n",
    "model = Ising(0.1,J_temp,theta)\n",
    "print(\"The pattern of interaction is:\")\n",
    "figure()\n",
    "title(\"input image\")\n",
    "imshow(J_temp)\n",
    "colorbar()\n",
    "print('now run the simulation:')\n",
    "figure()\n",
    "title(\"initial condition\")\n",
    "model.show()\n",
    "k=0\n",
    "dati=[]\n",
    "while k<30000:\n",
    "    dati+=[model.magnetisation()]\n",
    "    model.move()\n",
    "    k+=1\n",
    "figure()\n",
    "\n",
    "model.show()\n",
    "figure()\n",
    "plot(dati)"
   ]
  },
  {
   "cell_type": "code",
   "execution_count": null,
   "metadata": {
    "collapsed": false,
    "deletable": true,
    "editable": true
   },
   "outputs": [],
   "source": []
  },
  {
   "cell_type": "code",
   "execution_count": 59,
   "metadata": {
    "collapsed": false,
    "deletable": true,
    "editable": true
   },
   "outputs": [
    {
     "name": "stdout",
     "output_type": "stream",
     "text": [
      "[[-1 -1  1 -1  1 -1 -1  1  1  1]\n",
      " [ 1 -1 -1  1  1 -1  1 -1  1  1]\n",
      " [-1 -1 -1  1 -1 -1  1 -1 -1  1]\n",
      " [ 1  1 -1 -1 -1  1  1  1 -1  1]\n",
      " [-1 -1  1 -1  1 -1  1 -1 -1  1]\n",
      " [-1 -1 -1 -1  1  1  1 -1 -1 -1]\n",
      " [ 1 -1 -1  1 -1 -1  1 -1  1 -1]\n",
      " [-1 -1 -1 -1  1 -1  1  1 -1  1]\n",
      " [-1  1 -1 -1  1 -1 -1 -1 -1  1]\n",
      " [ 1 -1 -1 -1  1  1 -1 -1  1 -1]]\n",
      "21.0\n"
     ]
    }
   ],
   "source": [
    "S=2*(rand(10,10)>0.5)-1 # matrix of spin\n",
    "J*S\n",
    "i=3;j=4;\n",
    "print(S)\n",
    "effective_field=S*J\n",
    "print(effective_field[i,j]*(sum(effective_field)-effective_field[i,j]))\n"
   ]
  },
  {
   "cell_type": "code",
   "execution_count": 45,
   "metadata": {
    "collapsed": false,
    "deletable": true,
    "editable": true
   },
   "outputs": [
    {
     "data": {
      "text/plain": [
       "0.68268949213708585"
      ]
     },
     "execution_count": 45,
     "metadata": {},
     "output_type": "execute_result"
    }
   ],
   "source": [
    "import scipy\n",
    "scipy.special.erf(1/sqrt(2))"
   ]
  },
  {
   "cell_type": "code",
   "execution_count": 49,
   "metadata": {
    "collapsed": false,
    "deletable": true,
    "editable": true
   },
   "outputs": [
    {
     "data": {
      "text/plain": [
       "0.99997133524955206"
      ]
     },
     "execution_count": 49,
     "metadata": {},
     "output_type": "execute_result"
    }
   ],
   "source": [
    "(1-0.5*(1-scipy.special.erf(sqrt(100/4)/sqrt(2))))**100"
   ]
  },
  {
   "cell_type": "code",
   "execution_count": null,
   "metadata": {
    "collapsed": true,
    "deletable": true,
    "editable": true
   },
   "outputs": [],
   "source": []
  }
 ],
 "metadata": {
  "kernelspec": {
   "display_name": "Python 3",
   "language": "python",
   "name": "python3"
  },
  "language_info": {
   "codemirror_mode": {
    "name": "ipython",
    "version": 3
   },
   "file_extension": ".py",
   "mimetype": "text/x-python",
   "name": "python",
   "nbconvert_exporter": "python",
   "pygments_lexer": "ipython3",
   "version": "3.5.2"
  }
 },
 "nbformat": 4,
 "nbformat_minor": 2
}
