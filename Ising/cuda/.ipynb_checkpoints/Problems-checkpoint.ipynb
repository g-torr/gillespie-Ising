{
 "cells": [
  {
   "cell_type": "markdown",
   "metadata": {},
   "source": [
    "# Problem 1: Calculating $\\pi$ with Monte Carlo\n",
    "\n",
    "The aim of this first problem is to write a code that calculates the value of $\\pi$ as discussed in the lecture. Recall that the idea is to place a circle of radius 1 inside a square of length 2. \"Stones\" are then randomly thrown into the square and the ones that land in the circle are counted. As more stones are thrown $\\pi$ can be approximated by $4 N_c/N_s$. Effectively, this amounts to:\n",
    "\n",
    "\n",
    "- Generate $x$ and $y$ random variables on (-1,+1)\n",
    "- Check the condition $x^2 + y^2 < 1$ \n",
    "- $N_c = N_c +1$ if the above condition is true \n",
    "- $N_s = N_s + 1$ always\n",
    "- Calculate $\\pi$\n",
    "\n",
    "Goal: show that the Monte Carlo error for the estimatation of $\\pi$ goes as $1/\\sqrt{N}$, where $N$ is the number of Monte Carlo runs. "
   ]
  },
  {
   "cell_type": "code",
   "execution_count": 61,
   "metadata": {
    "collapsed": true
   },
   "outputs": [],
   "source": [
    "for i in arange(5,25):\n",
    "    N=2**i\n",
    "    x=-1+2*rand(N)\n",
    "    y=-1+2*rand(N)\n",
    "    N_in=count_nonzero((x**2+y**2)<1)\n",
    "    area=4*N_in/N\n",
    "    plot(N,abs(area-pi),\"bo\")"
   ]
  },
  {
   "cell_type": "markdown",
   "metadata": {},
   "source": [
    "# Problem 2: Markov Chain Monte Carlo for the Ising Model "
   ]
  },
  {
   "cell_type": "markdown",
   "metadata": {},
   "source": [
    "The aim of this example is to study the two-dimensional Ising Model using a Monte Carlo algorithm and to see whether we can find evidence for a phase transition even though we will deal with a finite system. Recall the discussion of the Ising Model from the lecture.\n",
    "\n",
    "To practically solve this problem in Python, for the moment we will only deal with with the **(i)** setup of the problem and **(ii)** how to implement the Metropolis algorithm  "
   ]
  },
  {
   "cell_type": "markdown",
   "metadata": {},
   "source": [
    "### (i) Setup up a Class for the Ising Model \n",
    "\n",
    "To start we can establish a class for configuring the Ising Model. The constructor (__init__) should take T (temperature),J (interaction),L (lattice size) which will completely define the lattice structure. The spins can then take random values of $\\pm 1$ on the $L \\times L$ lattice. \n",
    "\n",
    "In addition to the constructor, the class should have energy and magenetisation methods that return the energy and magnetisation of the chosen Configuration. \n",
    "\n",
    "To that end, the class should have the following general structure:"
   ]
  },
  {
   "cell_type": "raw",
   "metadata": {},
   "source": [
    "class Configuration(object):\n",
    "    def __init__(self, L,T, ...):\n",
    "        self.size = L\n",
    "        self.beta = 1/T\n",
    "        self.spins = ...\n",
    "        ...\n",
    "    def energy(self):\n",
    "        ... ## energy expression\n",
    "        return e\n",
    "    def magnetization(self):\n",
    "        ... ## magnetisation expression \n",
    "        return m"
   ]
  },
  {
   "cell_type": "markdown",
   "metadata": {},
   "source": [
    "To make sure that the class that you have written is working the $\\pm 1$ elements of the can be converted to an image and then plotted with Matplotlib: "
   ]
  },
  {
   "cell_type": "raw",
   "metadata": {},
   "source": [
    "def config_to_image(config):\n",
    "    L = config.size\n",
    "    im = np.zeros([L,L,3])\n",
    "    for i,j in itertools.product(range(L), repeat=2):\n",
    "        im[i,j,:] = (1.,0,0) if config.spins[i,j]==1 else (0.,0,0)\n",
    "    return im\n",
    "\n",
    "import matplotlib.pyplot as plt\n",
    "plt.imshow(config_to_image(config))"
   ]
  },
  {
   "cell_type": "code",
   "execution_count": 1,
   "metadata": {
    "collapsed": true
   },
   "outputs": [],
   "source": [
    "class Ising(object):\n",
    "    def __init__(self,T,J,L,N):\n",
    "        self.T=T\n",
    "        self.J=J\n",
    "        self.L=L\n",
    "        self.N=N# dimension of the problem\n",
    "        self.spin=2*(rand(self.N,self.N)>0.5)-1\n",
    "        #self.spin=reshape(append(self.spin,self.spin[:,0]),(self.N,self.N+1))\n",
    "        #self.spin=reshape(append(self.spin,self.spin[0,:]),(self.N+1,self.N+1))\n",
    "    def energy(self):\n",
    "        E=0\n",
    "        A=self.spin\n",
    "        for i in arange(0,self.N):\n",
    "            for j in arange(0,self.N):\n",
    "                E+=A[i,j]*A[i,j+1]+A[i,j]*A[i,j-1]+A[i,j]*A[i-1,j]+A[i,j]*A[i+1,j]\n",
    "        self.E=E\n",
    "\n",
    "    def magnetisation(self):\n",
    "        return sum(self.spin) #total magnetization\n",
    "        \n",
    "    def show(self):\n",
    "        imshow(self.spin)"
   ]
  },
  {
   "cell_type": "code",
   "execution_count": 12,
   "metadata": {
    "collapsed": true
   },
   "outputs": [],
   "source": [
    "model = Ising(1,1,1,50)"
   ]
  },
  {
   "cell_type": "code",
   "execution_count": 10,
   "metadata": {
    "collapsed": true
   },
   "outputs": [],
   "source": [
    "from pylab import *\n",
    "%matplotlib inline"
   ]
  },
  {
   "cell_type": "code",
   "execution_count": 13,
   "metadata": {},
   "outputs": [
    {
     "data": {
      "image/png": "[encoded data removed]",
      "text/plain": [
       "<matplotlib.figure.Figure at 0x7f6995f08fd0>"
      ]
     },
     "metadata": {},
     "output_type": "display_data"
    }
   ],
   "source": [
    "model.show()"
   ]
  },
  {
   "cell_type": "code",
   "execution_count": 4,
   "metadata": {},
   "outputs": [
    {
     "ename": "ImportError",
     "evalue": "cannot import name 'convolve2d'",
     "output_type": "error",
     "traceback": [
      "\u001b[0;31m---------------------------------------------------------------------------\u001b[0m",
      "\u001b[0;31mImportError\u001b[0m                               Traceback (most recent call last)",
      "\u001b[0;32m<ipython-input-4-020548ef84c6>\u001b[0m in \u001b[0;36m<module>\u001b[0;34m()\u001b[0m\n\u001b[0;32m----> 1\u001b[0;31m \u001b[0;32mfrom\u001b[0m \u001b[0mscipy\u001b[0m \u001b[0;32mimport\u001b[0m \u001b[0mconvolve2d\u001b[0m\u001b[0;34m\u001b[0m\u001b[0m\n\u001b[0m",
      "\u001b[0;31mImportError\u001b[0m: cannot import name 'convolve2d'"
     ]
    }
   ],
   "source": [
    "from scipy import convolve2d"
   ]
  },
  {
   "cell_type": "code",
   "execution_count": 2,
   "metadata": {
    "collapsed": true
   },
   "outputs": [],
   "source": [
    "convolve?"
   ]
  },
  {
   "cell_type": "markdown",
   "metadata": {},
   "source": [
    "### (ii) The Metropolis Move \n",
    "\n",
    "The Metroplis Monte Carlo move should take an a specific Ising configuration and propose a move to another configuration according to the Metropolis Algorithm. To that end, a function can be written that computes the energy difference between the new and old configurations. The function should return a configuration decided by the acceptance criteria of the Metroplis algorithm."
   ]
  },
  {
   "cell_type": "raw",
   "metadata": {},
   "source": [
    " def metropolis_move(config):"
   ]
  },
  {
   "cell_type": "markdown",
   "metadata": {},
   "source": [
    "The rest of the problem will be discussed in the nest session."
   ]
  },
  {
   "cell_type": "code",
   "execution_count": 2,
   "metadata": {},
   "outputs": [
    {
     "name": "stdout",
     "output_type": "stream",
     "text": [
      "Using matplotlib backend: Qt5Agg\n",
      "Populating the interactive namespace from numpy and matplotlib\n"
     ]
    }
   ],
   "source": [
    "%pylab"
   ]
  },
  {
   "cell_type": "code",
   "execution_count": 65,
   "metadata": {},
   "outputs": [
    {
     "data": {
      "text/plain": [
       "array([0, 1, 2, 3, 4, 5, 6, 7, 8, 9])"
      ]
     },
     "execution_count": 65,
     "metadata": {},
     "output_type": "execute_result"
    }
   ],
   "source": [
    "a=arange(0,10)\n",
    "a"
   ]
  },
  {
   "cell_type": "code",
   "execution_count": 78,
   "metadata": {
    "collapsed": true
   },
   "outputs": [],
   "source": [
    "N=10"
   ]
  },
  {
   "cell_type": "code",
   "execution_count": 92,
   "metadata": {
    "collapsed": true
   },
   "outputs": [],
   "source": [
    "Is=Ising(1,1,1,10)\n",
    "A=Is.spin"
   ]
  },
  {
   "cell_type": "code",
   "execution_count": 81,
   "metadata": {
    "collapsed": true
   },
   "outputs": [],
   "source": [
    "E=0\n",
    "for i in arange(0,N):\n",
    "    for j in arange(0,N):\n",
    "        E+=A[i,j]*A[i,j+1]+A[i,j]*A[i,j-1]+A[i,j]*A[i-1,j]+A[i,j]*A[i+1,j]"
   ]
  },
  {
   "cell_type": "code",
   "execution_count": 101,
   "metadata": {
    "collapsed": true
   },
   "outputs": [],
   "source": [
    "for T in linspace(-10,10):\n",
    "    Is=Ising(T,1,1,10)\n",
    "    plot(T,Is.magnetisation(),\"o\")"
   ]
  },
  {
   "cell_type": "code",
   "execution_count": 86,
   "metadata": {},
   "outputs": [
    {
     "data": {
      "text/plain": [
       "19"
      ]
     },
     "execution_count": 86,
     "metadata": {},
     "output_type": "execute_result"
    }
   ],
   "source": [
    "sum(A)"
   ]
  },
  {
   "cell_type": "code",
   "execution_count": 57,
   "metadata": {},
   "outputs": [
    {
     "data": {
      "text/plain": [
       "array([[ 1, -1, -1,  1],\n",
       "       [ 1, -1, -1, -1],\n",
       "       [-1,  1,  1, -1]])"
      ]
     },
     "execution_count": 57,
     "metadata": {},
     "output_type": "execute_result"
    }
   ],
   "source": [
    "reshape(append(A,A[:,0]),(3,4))"
   ]
  },
  {
   "cell_type": "code",
   "execution_count": 53,
   "metadata": {},
   "outputs": [
    {
     "data": {
      "text/plain": [
       "array([ 1,  1, -1])"
      ]
     },
     "execution_count": 53,
     "metadata": {},
     "output_type": "execute_result"
    }
   ],
   "source": [
    "A[:,0]"
   ]
  },
  {
   "cell_type": "code",
   "execution_count": 56,
   "metadata": {
    "collapsed": true
   },
   "outputs": [],
   "source": [
    "reshape?"
   ]
  },
  {
   "cell_type": "code",
   "execution_count": null,
   "metadata": {
    "collapsed": true
   },
   "outputs": [],
   "source": []
  }
 ],
 "metadata": {
  "kernelspec": {
   "display_name": "Python 3",
   "language": "python",
   "name": "python3"
  },
  "language_info": {
   "codemirror_mode": {
    "name": "ipython",
    "version": 3
   },
   "file_extension": ".py",
   "mimetype": "text/x-python",
   "name": "python",
   "nbconvert_exporter": "python",
   "pygments_lexer": "ipython3",
   "version": "3.6.2"
  }
 },
 "nbformat": 4,
 "nbformat_minor": 2
}
