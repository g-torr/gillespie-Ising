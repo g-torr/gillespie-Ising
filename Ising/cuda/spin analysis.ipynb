{
 "cells": [
  {
   "cell_type": "markdown",
   "metadata": {
    "deletable": true,
    "editable": true
   },
   "source": [
    "## Data anlysis for the gpu simulation on Ising model"
   ]
  },
  {
   "cell_type": "code",
   "execution_count": 1,
   "metadata": {
    "collapsed": false,
    "deletable": true,
    "editable": true
   },
   "outputs": [
    {
     "name": "stdout",
     "output_type": "stream",
     "text": [
      "Using matplotlib backend: Qt5Agg\n",
      "Populating the interactive namespace from numpy and matplotlib\n"
     ]
    }
   ],
   "source": [
    "%pylab\n",
    "%matplotlib inline"
   ]
  },
  {
   "cell_type": "code",
   "execution_count": 2,
   "metadata": {
    "collapsed": false,
    "deletable": true,
    "editable": true
   },
   "outputs": [],
   "source": [
    "storage=[]\n",
    "data=[]\n",
    "count=0\n",
    "with open(\"output.txt\",\"r\")as f:\n",
    "    for line in f:\n",
    "        if \"copio la matrice\" in line:\n",
    "            storage+=[data]#the header is before the data, I save in storage the previous data  before reading the new ones\n",
    "            data=[]\n",
    "            continue\n",
    "        data+=[array(line.strip(\"\\n\")[:-1].split(\"\\t\"),dtype=float)]#I get rid of the last chacater that is a space\n",
    "        count+=1\n",
    "    storage+=[data]#I acccumulate the very last matrix \n",
    "storage=storage[1:]#the fist element is the empty matrix"
   ]
  },
  {
   "cell_type": "code",
   "execution_count": 3,
   "metadata": {
    "collapsed": false,
    "deletable": true,
    "editable": true
   },
   "outputs": [],
   "source": [
    "class Ising(object):\n",
    "    def __init__(self):\n",
    "        self.storage=self.load_data()\n",
    "        self.magnetisation=mean(self.storage,axis=(1,2))#average magnetisation per frame\n",
    "    def load_data(self):\n",
    "        storage=[]\n",
    "        data=[]\n",
    "        count=0\n",
    "        with open(\"output.txt\",\"r\")as f:\n",
    "            for line in f:\n",
    "                if \"copio la matrice\" in line:\n",
    "                    storage+=[data]#the header is before the data, I save in storage the previous data  before reading the new ones\n",
    "                    data=[]\n",
    "                    continue\n",
    "                data+=[array(line.strip(\"\\n\")[:-1].split(\"\\t\"),dtype=float)]#I get rid of the last chacater that is a space\n",
    "                count+=1\n",
    "            storage+=[data]#I acccumulate the very last matrix \n",
    "        storage=storage[1:]#the fist element is the empty matrix\n",
    "        return storage\n",
    "    def show(self,frame):\n",
    "        figure()\n",
    "        xlabel(\"frame\")\n",
    "        ylabel(\"Magnetisation\")\n",
    "        plot(self.magnetisation)\n",
    "        figure()\n",
    "        xlabel(\"x\")\n",
    "        ylabel(\"y\")\n",
    "        imshow(self.storage[frame])\n"
   ]
  },
  {
   "cell_type": "code",
   "execution_count": 4,
   "metadata": {
    "collapsed": false,
    "deletable": true,
    "editable": true,
    "scrolled": true
   },
   "outputs": [
    {
     "data": {
      "image/png": "[encoded data removed]",
      "text/plain": [
       "<matplotlib.figure.Figure at 0x7fde11b0cb70>"
      ]
     },
     "metadata": {},
     "output_type": "display_data"
    },
    {
     "data": {
      "image/png": "[encoded data removed]",
      "text/plain": [
       "<matplotlib.figure.Figure at 0x7fde0e787eb8>"
      ]
     },
     "metadata": {},
     "output_type": "display_data"
    }
   ],
   "source": [
    "Ising().show(2)"
   ]
  },
  {
   "cell_type": "code",
   "execution_count": 129,
   "metadata": {
    "collapsed": false,
    "deletable": true,
    "editable": true
   },
   "outputs": [
    {
     "data": {
      "text/plain": [
       "nan"
      ]
     },
     "execution_count": 129,
     "metadata": {},
     "output_type": "execute_result"
    }
   ],
   "source": [
    "sum(storage[])"
   ]
  },
  {
   "cell_type": "code",
   "execution_count": 6,
   "metadata": {
    "collapsed": false,
    "deletable": true,
    "editable": true,
    "scrolled": false
   },
   "outputs": [
    {
     "data": {
      "text/plain": [
       "<matplotlib.image.AxesImage at 0x7fde0e470a58>"
      ]
     },
     "execution_count": 6,
     "metadata": {},
     "output_type": "execute_result"
    },
    {
     "data": {
      "image/png": "[encoded data removed]",
      "text/plain": [
       "<matplotlib.figure.Figure at 0x7fde0e69db70>"
      ]
     },
     "metadata": {},
     "output_type": "display_data"
    },
    {
     "data": {
      "image/png": "[encoded data removed]",
      "text/plain": [
       "<matplotlib.figure.Figure at 0x7fde0e69da90>"
      ]
     },
     "metadata": {},
     "output_type": "display_data"
    },
    {
     "data": {
      "image/png": "[encoded data removed]",
      "text/plain": [
       "<matplotlib.figure.Figure at 0x7fde0e4df320>"
      ]
     },
     "metadata": {},
     "output_type": "display_data"
    }
   ],
   "source": [
    "%matplotlib inline\n",
    "imshow(storage[7])\n",
    "figure()\n",
    "imshow(storage[8])\n",
    "figure()\n",
    "imshow(storage[9])"
   ]
  },
  {
   "cell_type": "code",
   "execution_count": 98,
   "metadata": {
    "collapsed": false,
    "deletable": true,
    "editable": true
   },
   "outputs": [
    {
     "data": {
      "text/plain": [
       "0"
      ]
     },
     "execution_count": 98,
     "metadata": {},
     "output_type": "execute_result"
    }
   ],
   "source": [
    "count_nonzero(array(storage[50])-array(storage[51]))"
   ]
  },
  {
   "cell_type": "code",
   "execution_count": 99,
   "metadata": {
    "collapsed": false,
    "deletable": true,
    "editable": true
   },
   "outputs": [
    {
     "data": {
      "text/plain": [
       "[array([-1., -1., -1., -1.,  1.,  1.,  1.,  1.,  1., -1., -1., -1.,  1.,\n",
       "         1., -1., -1., -1.,  1., -1., -1.,  1.,  1., -1., -1., -1., -1.,\n",
       "        -1., -1., -1., -1.,  1.,  1.]),\n",
       " array([-1., -1., -1., -1., -1.,  1.,  1.,  1.,  1.,  1., -1., -1.,  1.,\n",
       "         1., -1., -1., -1.,  1.,  1.,  1.,  1.,  1., -1., -1., -1., -1.,\n",
       "        -1., -1., -1., -1.,  1.,  1.]),\n",
       " array([ 1.,  1.,  1.,  1., -1., -1., -1.,  1.,  1.,  1., -1., -1.,  1.,\n",
       "         1., -1., -1., -1.,  1.,  1.,  1.,  1.,  1.,  1.,  1.,  1., -1.,\n",
       "        -1., -1., -1., -1., -1.,  1.]),\n",
       " array([-1., -1.,  1.,  1., -1., -1., -1.,  1.,  1.,  1., -1., -1.,  1.,\n",
       "         1., -1., -1.,  1.,  1.,  1.,  1.,  1.,  1.,  1.,  1.,  1., -1.,\n",
       "        -1., -1., -1., -1., -1.,  1.]),\n",
       " array([-1., -1.,  1.,  1.,  1., -1., -1.,  1.,  1., -1., -1., -1.,  1.,\n",
       "         1., -1., -1.,  1.,  1.,  1.,  1., -1., -1., -1.,  1.,  1., -1.,\n",
       "         1.,  1.,  1.,  1.,  1.,  1.]),\n",
       " array([-1., -1.,  1.,  1.,  1., -1., -1.,  1.,  1., -1., -1., -1.,  1.,\n",
       "         1., -1., -1.,  1.,  1.,  1.,  1., -1., -1., -1., -1., -1., -1.,\n",
       "         1.,  1.,  1., -1., -1.,  1.]),\n",
       " array([-1., -1.,  1.,  1.,  1., -1.,  1.,  1.,  1., -1., -1., -1.,  1.,\n",
       "         1.,  1.,  1.,  1.,  1.,  1.,  1.,  1., -1., -1., -1., -1., -1.,\n",
       "        -1., -1., -1., -1., -1.,  1.]),\n",
       " array([ 1.,  1.,  1.,  1.,  1., -1.,  1.,  1.,  1., -1., -1., -1., -1.,\n",
       "         1.,  1.,  1.,  1.,  1.,  1.,  1.,  1., -1., -1., -1., -1., -1.,\n",
       "        -1., -1., -1., -1., -1.,  1.]),\n",
       " array([ 1.,  1.,  1.,  1.,  1., -1.,  1.,  1.,  1., -1., -1., -1., -1.,\n",
       "         1.,  1.,  1.,  1.,  1.,  1.,  1.,  1., -1., -1., -1., -1., -1.,\n",
       "        -1., -1., -1.,  1.,  1.,  1.]),\n",
       " array([ 1.,  1.,  1.,  1.,  1., -1., -1.,  1.,  1., -1., -1.,  1.,  1.,\n",
       "         1.,  1.,  1.,  1.,  1., -1., -1., -1., -1., -1., -1., -1., -1.,\n",
       "        -1., -1., -1.,  1.,  1.,  1.]),\n",
       " array([ 1., -1., -1., -1., -1., -1., -1.,  1.,  1., -1., -1.,  1.,  1.,\n",
       "         1.,  1.,  1.,  1.,  1., -1., -1., -1., -1., -1., -1., -1., -1.,\n",
       "        -1., -1., -1., -1.,  1.,  1.]),\n",
       " array([-1., -1., -1., -1., -1., -1.,  1.,  1.,  1.,  1., -1., -1., -1.,\n",
       "         1.,  1., -1., -1., -1., -1., -1., -1., -1., -1., -1., -1., -1.,\n",
       "        -1., -1., -1., -1., -1., -1.]),\n",
       " array([-1., -1.,  1.,  1., -1., -1.,  1.,  1.,  1.,  1., -1., -1., -1.,\n",
       "         1.,  1., -1., -1., -1., -1., -1., -1., -1., -1., -1., -1., -1.,\n",
       "        -1., -1., -1., -1., -1., -1.]),\n",
       " array([-1., -1.,  1.,  1., -1., -1., -1.,  1.,  1.,  1., -1., -1., -1.,\n",
       "         1.,  1.,  1.,  1.,  1., -1., -1., -1., -1.,  1.,  1., -1., -1.,\n",
       "        -1., -1., -1., -1., -1., -1.]),\n",
       " array([-1., -1., -1., -1., -1., -1., -1.,  1.,  1.,  1., -1., -1., -1.,\n",
       "         1.,  1.,  1.,  1.,  1.,  1.,  1.,  1.,  1.,  1.,  1., -1., -1.,\n",
       "         1.,  1.,  1.,  1., -1., -1.]),\n",
       " array([-1., -1., -1., -1., -1., -1., -1., -1.,  1.,  1.,  1.,  1.,  1.,\n",
       "         1.,  1.,  1.,  1.,  1.,  1., -1., -1., -1.,  1.,  1.,  1.,  1.,\n",
       "         1.,  1.,  1.,  1.,  1., -1.]),\n",
       " array([-1., -1., -1., -1., -1., -1., -1., -1., -1., -1., -1., -1., -1.,\n",
       "        -1.,  1.,  1.,  1.,  1.,  1., -1., -1., -1.,  1.,  1.,  1.,  1.,\n",
       "         1.,  1.,  1.,  1.,  1., -1.]),\n",
       " array([-1., -1., -1., -1.,  1.,  1.,  1., -1., -1., -1., -1., -1., -1.,\n",
       "        -1.,  1.,  1.,  1.,  1.,  1.,  1.,  1.,  1.,  1.,  1., -1., -1.,\n",
       "        -1.,  1., -1., -1., -1., -1.]),\n",
       " array([-1., -1., -1., -1.,  1.,  1.,  1., -1., -1., -1., -1., -1.,  1.,\n",
       "         1.,  1.,  1.,  1.,  1.,  1.,  1.,  1.,  1.,  1.,  1., -1., -1.,\n",
       "        -1.,  1., -1., -1., -1., -1.]),\n",
       " array([-1., -1., -1., -1., -1., -1., -1., -1.,  1.,  1., -1., -1.,  1.,\n",
       "         1.,  1., -1., -1.,  1.,  1.,  1.,  1.,  1.,  1.,  1., -1., -1.,\n",
       "        -1.,  1., -1., -1., -1., -1.]),\n",
       " array([-1., -1., -1., -1., -1., -1., -1., -1.,  1.,  1., -1., -1.,  1.,\n",
       "         1.,  1., -1., -1.,  1.,  1.,  1.,  1., -1., -1., -1., -1., -1.,\n",
       "        -1.,  1., -1., -1., -1., -1.]),\n",
       " array([-1., -1., -1., -1., -1.,  1.,  1.,  1.,  1.,  1., -1., -1., -1.,\n",
       "         1.,  1.,  1.,  1.,  1.,  1.,  1.,  1., -1., -1., -1., -1., -1.,\n",
       "        -1.,  1., -1., -1., -1., -1.]),\n",
       " array([-1., -1., -1., -1., -1.,  1.,  1.,  1.,  1.,  1.,  1., -1., -1.,\n",
       "        -1., -1., -1.,  1.,  1.,  1.,  1.,  1., -1., -1., -1., -1., -1.,\n",
       "        -1.,  1.,  1., -1., -1., -1.]),\n",
       " array([ 1.,  1.,  1.,  1.,  1.,  1.,  1.,  1.,  1.,  1.,  1., -1., -1.,\n",
       "        -1., -1., -1.,  1.,  1.,  1.,  1.,  1., -1., -1., -1., -1., -1.,\n",
       "        -1., -1.,  1., -1., -1., -1.]),\n",
       " array([ 1.,  1.,  1.,  1.,  1.,  1.,  1.,  1.,  1.,  1.,  1., -1., -1.,\n",
       "        -1., -1.,  1.,  1.,  1.,  1.,  1.,  1., -1., -1., -1., -1., -1.,\n",
       "        -1., -1.,  1.,  1., -1., -1.]),\n",
       " array([-1., -1.,  1.,  1.,  1.,  1.,  1.,  1.,  1.,  1.,  1., -1., -1.,\n",
       "        -1., -1.,  1.,  1.,  1.,  1.,  1.,  1., -1., -1., -1., -1., -1.,\n",
       "        -1., -1.,  1.,  1.,  1., -1.]),\n",
       " array([-1., -1.,  1.,  1.,  1.,  1.,  1.,  1.,  1.,  1.,  1., -1., -1.,\n",
       "        -1., -1.,  1.,  1.,  1.,  1.,  1.,  1., -1., -1., -1., -1.,  1.,\n",
       "         1.,  1.,  1.,  1.,  1., -1.]),\n",
       " array([-1.,  1.,  1.,  1.,  1.,  1.,  1.,  1.,  1.,  1.,  1.,  1., -1.,\n",
       "        -1., -1.,  1.,  1.,  1.,  1.,  1.,  1., -1., -1., -1., -1.,  1.,\n",
       "         1.,  1.,  1.,  1.,  1.,  1.]),\n",
       " array([-1.,  1.,  1.,  1.,  1., -1., -1., -1.,  1.,  1.,  1.,  1.,  1.,\n",
       "         1.,  1.,  1.,  1.,  1.,  1.,  1.,  1.,  1.,  1., -1., -1.,  1.,\n",
       "         1.,  1.,  1.,  1.,  1.,  1.]),\n",
       " array([-1., -1.,  1.,  1.,  1., -1., -1., -1., -1.,  1.,  1.,  1.,  1.,\n",
       "         1.,  1.,  1.,  1.,  1.,  1.,  1.,  1.,  1.,  1., -1., -1.,  1.,\n",
       "         1.,  1.,  1.,  1.,  1.,  1.]),\n",
       " array([-1., -1., -1.,  1.,  1.,  1.,  1., -1., -1.,  1.,  1.,  1.,  1.,\n",
       "         1.,  1.,  1.,  1.,  1., -1., -1.,  1.,  1., -1., -1., -1.,  1.,\n",
       "         1.,  1.,  1.,  1.,  1.,  1.]),\n",
       " array([-1., -1., -1.,  1.,  1.,  1.,  1.,  1.,  1., -1., -1., -1.,  1.,\n",
       "         1.,  1.,  1.,  1.,  1., -1., -1.,  1.,  1., -1., -1., -1., -1.,\n",
       "        -1., -1., -1., -1.,  1.,  1.])]"
      ]
     },
     "execution_count": 99,
     "metadata": {},
     "output_type": "execute_result"
    }
   ],
   "source": [
    "storage[50]"
   ]
  },
  {
   "cell_type": "code",
   "execution_count": 41,
   "metadata": {
    "collapsed": false,
    "deletable": true,
    "editable": true
   },
   "outputs": [
    {
     "data": {
      "image/png": "[encoded data removed]",
      "text/plain": [
       "<matplotlib.figure.Figure at 0x7f3fda3b1518>"
      ]
     },
     "metadata": {},
     "output_type": "display_data"
    },
    {
     "data": {
      "image/png": "[encoded data removed]",
      "text/plain": [
       "<matplotlib.figure.Figure at 0x7f3fda36ba20>"
      ]
     },
     "metadata": {},
     "output_type": "display_data"
    }
   ],
   "source": [
    "Ising().show(2)"
   ]
  },
  {
   "cell_type": "code",
   "execution_count": null,
   "metadata": {
    "collapsed": true,
    "deletable": true,
    "editable": true
   },
   "outputs": [],
   "source": []
  }
 ],
 "metadata": {
  "kernelspec": {
   "display_name": "Python 3",
   "language": "python",
   "name": "python3"
  },
  "language_info": {
   "codemirror_mode": {
    "name": "ipython",
    "version": 3
   },
   "file_extension": ".py",
   "mimetype": "text/x-python",
   "name": "python",
   "nbconvert_exporter": "python",
   "pygments_lexer": "ipython3",
   "version": "3.5.2"
  }
 },
 "nbformat": 4,
 "nbformat_minor": 2
}
