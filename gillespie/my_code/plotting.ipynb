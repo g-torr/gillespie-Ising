{
 "cells": [
  {
   "cell_type": "code",
   "execution_count": 46,
   "metadata": {
    "collapsed": false,
    "deletable": true,
    "editable": true
   },
   "outputs": [
    {
     "name": "stdout",
     "output_type": "stream",
     "text": [
      "Using matplotlib backend: Qt5Agg\n",
      "Populating the interactive namespace from numpy and matplotlib\n"
     ]
    }
   ],
   "source": [
    "%pylab\n",
    "import pandas as pd\n",
    "import itertools"
   ]
  },
  {
   "cell_type": "code",
   "execution_count": 47,
   "metadata": {
    "collapsed": true,
    "deletable": true,
    "editable": true
   },
   "outputs": [],
   "source": [
    "A=[];B=[];t=[];\n",
    "for i in arange(0,20):\n",
    "    dataset=pd.read_table(\"./data/dataset_\"+str(i)+\".txt\",header=None,names=[\"A\",\"B\",\"t\"])\n",
    "    t+=[array(dataset[\"t\"])]\n",
    "    A+=[array(dataset[\"A\"])]\n",
    "    B+=[array(dataset[\"B\"])]"
   ]
  },
  {
   "cell_type": "code",
   "execution_count": 210,
   "metadata": {
    "collapsed": false,
    "deletable": true,
    "editable": true
   },
   "outputs": [
    {
     "data": {
      "text/plain": [
       "(20,)"
      ]
     },
     "execution_count": 210,
     "metadata": {},
     "output_type": "execute_result"
    }
   ],
   "source": [
    "shape(array(t))"
   ]
  },
  {
   "cell_type": "code",
   "execution_count": 48,
   "metadata": {
    "collapsed": true,
    "deletable": true,
    "editable": true
   },
   "outputs": [],
   "source": [
    "figure(figsize=(4,3))\n",
    "for i in arange(0,shape(t)[0]):\n",
    "    #plot(t[i],A[i],\"r\",label=\"A\")\n",
    "    plot(t[i],B[i])\n",
    "#legend()\n",
    "#figure()\n",
    "#plot(t, A+B)"
   ]
  },
  {
   "cell_type": "code",
   "execution_count": 49,
   "metadata": {
    "collapsed": true,
    "deletable": true,
    "editable": true
   },
   "outputs": [],
   "source": [
    "m=min(t[0])\n",
    "M=max(t[0])\n",
    "for i in arange(0,shape(t)[0]):\n",
    "    m_temp=min(t[i])\n",
    "    if m>m_temp:\n",
    "        m=m_temp\n",
    "    M_temp=max(t[i])\n",
    "    if M<M_temp:\n",
    "        M=M_temp\n",
    "# m minimum, M maximum time where something happen\n",
    "t_bin=logspace(log10(m),log10(M),50);\n",
    "    \n",
    "    "
   ]
  },
  {
   "cell_type": "code",
   "execution_count": 25,
   "metadata": {
    "collapsed": false,
    "deletable": true,
    "editable": true
   },
   "outputs": [
    {
     "data": {
      "text/plain": [
       "array([  0.00000000e+00,   0.00000000e+00,   0.00000000e+00,\n",
       "         0.00000000e+00,   0.00000000e+00,   0.00000000e+00,\n",
       "         0.00000000e+00,   0.00000000e+00,   0.00000000e+00,\n",
       "         0.00000000e+00,   0.00000000e+00,   1.23954737e-05,\n",
       "         1.60824424e-05,   4.08627409e-05,   1.01522200e-04,\n",
       "         2.15141761e-04,   3.70280524e-04,   5.76502228e-04,\n",
       "         7.83141234e-04,   1.05755524e-03,   1.42054724e-03,\n",
       "         1.89893253e-03,   2.46376004e-03,   3.34937086e-03,\n",
       "         4.34562365e-03,   5.81625523e-03,   7.54626984e-03,\n",
       "         9.79086821e-03,   1.28327342e-02,   1.77709598e-02,\n",
       "         2.37114491e-02,   3.09058488e-02,   4.13842363e-02,\n",
       "         5.48851899e-02,   7.17257730e-02,   9.41298857e-02,\n",
       "         1.27679614e-01,   1.69933723e-01,   2.34788890e-01,\n",
       "         3.25843318e-01,   5.01417416e-01,   7.16255341e-01,\n",
       "         1.01784607e+00,   1.44299602e+00,   2.16334705e+00,\n",
       "         3.08696340e+00,   4.02626896e+00,   5.22386154e+00,\n",
       "         6.77767175e+00])"
      ]
     },
     "execution_count": 25,
     "metadata": {},
     "output_type": "execute_result"
    }
   ],
   "source": [
    "h,b=histogram(t[0],t_bin,weights=A[0],normed=True)\n",
    "cumsum(h)*diff(b)"
   ]
  },
  {
   "cell_type": "markdown",
   "metadata": {
    "deletable": true,
    "editable": true
   },
   "source": [
    "I create the mean in the interbal by taking the weigthed average in the bin.  I sum all the weigths at the numerator and all the normalisation constant at the denominator. In the end then I divide the quantities.\n",
    "The counts are computed through the function \"fix_histogram\" which takes "
   ]
  },
  {
   "cell_type": "code",
   "execution_count": 50,
   "metadata": {
    "collapsed": false,
    "deletable": true,
    "editable": true
   },
   "outputs": [],
   "source": [
    "def fix_histogram(h):\n",
    "    for index in  where(h[1:]==0)[0]+1:\n",
    "        h[index]=h[index-1]\n",
    "    return h\n",
    "def fix_histogram2(h):\n",
    "    ch=cumsum(h)\n",
    "    return ch -pad(ch,2,'constant',constant_values=(0))[:-4]\n",
    "\n",
    "count=zeros(len(t_bin)-1)\n",
    "count1=zeros(len(t_bin)-1)\n",
    "for i in arange(0,len(t)):\n",
    "    h,b=histogram(t[i],t_bin,weights=B[i])\n",
    "    h1,b1=histogram(t[i],t_bin)\n",
    "    count+=h\n",
    "    count1+=h1\n",
    "plot((b[1:]),fix_histogram(count)/fix_histogram(count1),\"ro\",label=\"average\")\n",
    "xlabel(\"t\")\n",
    "ylabel(\"B\")\n",
    "legend()\n",
    "tight_layout()"
   ]
  },
  {
   "cell_type": "code",
   "execution_count": 85,
   "metadata": {
    "collapsed": false,
    "deletable": true,
    "editable": true
   },
   "outputs": [
    {
     "data": {
      "text/plain": [
       "(999,)"
      ]
     },
     "execution_count": 85,
     "metadata": {},
     "output_type": "execute_result"
    }
   ],
   "source": [
    "count.shape"
   ]
  },
  {
   "cell_type": "code",
   "execution_count": 46,
   "metadata": {
    "collapsed": false,
    "deletable": true,
    "editable": true
   },
   "outputs": [
    {
     "name": "stdout",
     "output_type": "stream",
     "text": [
      "[1180  755  507  268  222  192  117  102   56   31]\n"
     ]
    },
    {
     "data": {
      "text/plain": [
       "array([1180, 1935, 1262,  775,  490,  414,  309,  219,  158,   87])"
      ]
     },
     "execution_count": 46,
     "metadata": {},
     "output_type": "execute_result"
    }
   ],
   "source": [
    "print(h)\n",
    "fix_histogram2(h)"
   ]
  },
  {
   "cell_type": "code",
   "execution_count": 30,
   "metadata": {
    "collapsed": false,
    "deletable": true,
    "editable": true
   },
   "outputs": [
    {
     "name": "stdout",
     "output_type": "stream",
     "text": [
      "[772 681 846 357 369 302 266 149 159 160] [46 32 46 24 27 25 23 14 18 20]\n",
      "[  7.98000000e-04   7.46567000e-01   1.49233600e+00   2.23810500e+00\n",
      "   2.98387400e+00   3.72964300e+00   4.47541200e+00   5.22118100e+00\n",
      "   5.96695000e+00   6.71271900e+00   7.45848800e+00]\n",
      "[  7.98000000e-04   1.50300000e-03   1.96700000e-03   2.13200000e-03\n",
      "   2.26100000e-03   2.58600000e-03   2.74400000e-03   3.15100000e-03\n",
      "   3.45900000e-03   3.62000000e-03   4.03500000e-03   4.55100000e-03\n",
      "   4.64700000e-03   5.73600000e-03   7.33600000e-03   8.38600000e-03\n",
      "   1.16630000e-02   1.88620000e-02   1.90520000e-02   3.12960000e-02\n",
      "   3.56860000e-02   6.47190000e-02   9.34720000e-02   9.35930000e-02\n",
      "   9.51570000e-02   1.08259000e-01   1.13995000e-01   1.14198000e-01\n",
      "   1.23381000e-01   1.68647000e-01   2.12494000e-01   2.23766000e-01\n",
      "   2.30404000e-01   2.45016000e-01   2.53313000e-01   2.76104000e-01\n",
      "   3.86356000e-01   4.01773000e-01   5.13257000e-01   5.80841000e-01\n",
      "   5.97902000e-01   6.19276000e-01   6.20846000e-01   6.57171000e-01\n",
      "   6.63376000e-01   6.79501000e-01   7.55418000e-01   7.76330000e-01\n",
      "   7.85860000e-01   8.09370000e-01   8.75012000e-01   8.94602000e-01\n",
      "   8.96953000e-01   9.18065000e-01   9.52017000e-01   9.59996000e-01\n",
      "   9.76776000e-01   1.02577100e+00   1.04364400e+00   1.05199500e+00\n",
      "   1.07020500e+00   1.11381100e+00   1.14809900e+00   1.16102600e+00\n",
      "   1.16705900e+00   1.20871900e+00   1.24800200e+00   1.25995200e+00\n",
      "   1.36470600e+00   1.36569100e+00   1.42539500e+00   1.43606600e+00\n",
      "   1.43993500e+00   1.44046100e+00   1.46970700e+00   1.48082600e+00\n",
      "   1.48180500e+00   1.48934600e+00   1.50594400e+00   1.50805800e+00\n",
      "   1.52673400e+00   1.55035300e+00   1.58109400e+00   1.59348400e+00\n",
      "   1.64543700e+00   1.65340100e+00   1.67556100e+00   1.67557100e+00\n",
      "   1.71635600e+00   1.74090500e+00   1.74894900e+00   1.76615200e+00\n",
      "   1.77865200e+00   1.78455800e+00   1.78865900e+00   1.79085700e+00\n",
      "   1.81585200e+00   1.81593900e+00   1.82335300e+00   1.84263200e+00\n",
      "   1.85000400e+00   1.86259800e+00   1.88041700e+00   1.91653900e+00\n",
      "   1.95941000e+00   1.96775300e+00   1.98381700e+00   2.01273900e+00\n",
      "   2.01813500e+00   2.02260300e+00   2.03918200e+00   2.04005800e+00\n",
      "   2.07565700e+00   2.08032900e+00   2.08921900e+00   2.10278700e+00\n",
      "   2.11086200e+00   2.11586700e+00   2.12037400e+00   2.15768000e+00\n",
      "   2.18955500e+00   2.20357000e+00   2.20424500e+00   2.21965300e+00\n",
      "   2.33157700e+00   2.34559500e+00   2.37049100e+00   2.39233500e+00\n",
      "   2.42184500e+00   2.43182700e+00   2.44981600e+00   2.57390600e+00\n",
      "   2.69371200e+00   2.73471400e+00   2.74379300e+00   2.74729200e+00\n",
      "   2.77509100e+00   2.77526500e+00   2.78275800e+00   2.79543500e+00\n",
      "   2.81744900e+00   2.83497400e+00   2.86467000e+00   2.87648800e+00\n",
      "   2.89770300e+00   2.91173500e+00   2.93793500e+00   2.97503600e+00\n",
      "   2.99960200e+00   3.05476600e+00   3.14764600e+00   3.17612800e+00\n",
      "   3.19204000e+00   3.22747500e+00   3.26953200e+00   3.27115600e+00\n",
      "   3.30933800e+00   3.37924500e+00   3.38012400e+00   3.38016400e+00\n",
      "   3.39889900e+00   3.44013700e+00   3.46405500e+00   3.46658100e+00\n",
      "   3.47271800e+00   3.47336300e+00   3.47690600e+00   3.49689400e+00\n",
      "   3.54437600e+00   3.55296500e+00   3.65044500e+00   3.65547300e+00\n",
      "   3.66614600e+00   3.67482300e+00   3.69454400e+00   3.78314200e+00\n",
      "   3.82736600e+00   3.83469800e+00   3.87394000e+00   3.92327500e+00\n",
      "   3.93937200e+00   4.06115000e+00   4.07807000e+00   4.13175200e+00\n",
      "   4.15186700e+00   4.20525400e+00   4.22628800e+00   4.23211600e+00\n",
      "   4.34084200e+00   4.37349300e+00   4.37876700e+00   4.38059100e+00\n",
      "   4.41016400e+00   4.41952500e+00   4.42638300e+00   4.44476500e+00\n",
      "   4.44495100e+00   4.44590000e+00   4.44651100e+00   4.46006000e+00\n",
      "   4.55745200e+00   4.56242200e+00   4.58126100e+00   4.64494800e+00\n",
      "   4.67083500e+00   4.73727700e+00   4.79554200e+00   4.89627700e+00\n",
      "   4.89644900e+00   4.90386900e+00   4.92190100e+00   4.92476900e+00\n",
      "   5.01259700e+00   5.03919300e+00   5.04142900e+00   5.06414900e+00\n",
      "   5.09149900e+00   5.11205300e+00   5.11966100e+00   5.13172000e+00\n",
      "   5.13550700e+00   5.15624400e+00   5.15814700e+00   5.24347300e+00\n",
      "   5.34587300e+00   5.36929000e+00   5.37940900e+00   5.42208600e+00\n",
      "   5.45821800e+00   5.47150500e+00   5.55021500e+00   5.75241300e+00\n",
      "   5.90380700e+00   5.92425200e+00   5.94205300e+00   5.94344300e+00\n",
      "   5.95901900e+00   6.00353800e+00   6.02124400e+00   6.03600000e+00\n",
      "   6.04739000e+00   6.05931700e+00   6.08353900e+00   6.08911000e+00\n",
      "   6.11740300e+00   6.13901300e+00   6.22115600e+00   6.32190900e+00\n",
      "   6.40540600e+00   6.50118800e+00   6.52013200e+00   6.52777600e+00\n",
      "   6.60950600e+00   6.65690800e+00   6.66663500e+00   6.72211600e+00\n",
      "   6.72248100e+00   6.82647200e+00   6.83858200e+00   6.84470200e+00\n",
      "   6.89415600e+00   6.93509700e+00   6.94790700e+00   6.96374300e+00\n",
      "   6.96465500e+00   6.98186400e+00   7.00393500e+00   7.05071400e+00\n",
      "   7.07891500e+00   7.11013800e+00   7.11035500e+00   7.14512300e+00\n",
      "   7.33120600e+00   7.42953400e+00   7.45848800e+00]\n"
     ]
    }
   ],
   "source": [
    "figure()\n",
    "h,b=histogram(t[0],10,weights=B[0])\n",
    "h1,b1=histogram(t[0],10)\n",
    "plot((b[:-1]+b[1:])/2.,fix_histogram(h)/fix_histogram(h1))\n",
    "plot(t[0],B[0])\n",
    "print(h,h1)\n",
    "print(b)\n",
    "print(t[0])\n"
   ]
  },
  {
   "cell_type": "code",
   "execution_count": 21,
   "metadata": {
    "collapsed": false,
    "deletable": true,
    "editable": true
   },
   "outputs": [
    {
     "data": {
      "text/plain": [
       "array([0, 0, 0, 0, 0, 0, 0, 0])"
      ]
     },
     "execution_count": 21,
     "metadata": {},
     "output_type": "execute_result"
    }
   ],
   "source": [
    "a=arange(0,10,1)\n",
    "diff(a,2)"
   ]
  },
  {
   "cell_type": "code",
   "execution_count": 43,
   "metadata": {
    "collapsed": false,
    "deletable": true,
    "editable": true
   },
   "outputs": [
    {
     "name": "stdout",
     "output_type": "stream",
     "text": [
      "[1 2 3 4 5 6 7 8 9]\n"
     ]
    },
    {
     "data": {
      "text/plain": [
       "array([ 1,  3,  5,  7,  9, 11, 13, 15, 17])"
      ]
     },
     "execution_count": 43,
     "metadata": {},
     "output_type": "execute_result"
    }
   ],
   "source": [
    "x=arange(1,10)\n",
    "s=cumsum(x)\n",
    "print(x)\n",
    "s-pad(s,2,'constant',constant_values=(0))[:-4]"
   ]
  },
  {
   "cell_type": "code",
   "execution_count": 155,
   "metadata": {
    "collapsed": false,
    "deletable": true,
    "editable": true
   },
   "outputs": [
    {
     "data": {
      "text/plain": [
       "0.0085342500000000002"
      ]
     },
     "execution_count": 155,
     "metadata": {},
     "output_type": "execute_result"
    }
   ],
   "source": [
    "M-diff(t_bin)[0]"
   ]
  },
  {
   "cell_type": "code",
   "execution_count": 159,
   "metadata": {
    "collapsed": false,
    "deletable": true,
    "editable": true
   },
   "outputs": [
    {
     "data": {
      "text/plain": [
       "5"
      ]
     },
     "execution_count": 159,
     "metadata": {},
     "output_type": "execute_result"
    }
   ],
   "source": [
    "len(t_bin)"
   ]
  },
  {
   "cell_type": "code",
   "execution_count": 197,
   "metadata": {
    "collapsed": false,
    "deletable": true,
    "editable": true
   },
   "outputs": [
    {
     "data": {
      "text/plain": [
       "array([  3.59000000e-04,   6.48000000e-04,   1.52000000e-03,\n",
       "         1.52300000e-03,   2.46300000e-03,   2.74400000e-03,\n",
       "         3.36100000e-03,   3.76500000e-03,   4.30200000e-03,\n",
       "         4.64400000e-03,   4.82900000e-03,   1.11380000e-02,\n",
       "         1.14970000e-02,   1.44170000e-02,   1.64520000e-02,\n",
       "         1.73090000e-02,   1.74230000e-02,   2.16650000e-02,\n",
       "         2.46770000e-02,   2.72580000e-02,   2.77850000e-02,\n",
       "         2.90160000e-02,   3.17970000e-02,   4.28410000e-02,\n",
       "         6.01520000e-02,   1.17466000e-01,   1.70478000e-01,\n",
       "         2.22733000e-01,   2.79903000e-01,   2.81825000e-01,\n",
       "         2.97049000e-01,   3.67894000e-01,   3.84366000e-01,\n",
       "         4.04891000e-01,   4.34229000e-01,   4.48632000e-01,\n",
       "         4.48876000e-01,   4.61048000e-01,   4.66289000e-01,\n",
       "         4.67149000e-01,   4.67796000e-01,   4.91212000e-01,\n",
       "         5.39458000e-01,   6.00902000e-01,   6.03469000e-01,\n",
       "         6.14851000e-01,   6.38293000e-01,   6.54595000e-01,\n",
       "         6.57404000e-01,   7.50751000e-01,   7.55470000e-01,\n",
       "         7.70716000e-01,   7.72985000e-01,   7.87312000e-01,\n",
       "         7.88048000e-01,   8.03309000e-01,   8.15824000e-01,\n",
       "         8.50233000e-01,   8.81592000e-01,   8.86702000e-01,\n",
       "         9.42110000e-01,   9.73587000e-01,   9.98251000e-01,\n",
       "         9.98988000e-01,   1.00184200e+00,   1.02190900e+00,\n",
       "         1.02906700e+00,   1.03990100e+00,   1.08258400e+00,\n",
       "         1.14371000e+00,   1.15635400e+00,   1.15819600e+00,\n",
       "         1.18953100e+00,   1.20503000e+00,   1.25105700e+00,\n",
       "         1.27607900e+00,   1.27800200e+00,   1.31127400e+00,\n",
       "         1.32261200e+00,   1.36287800e+00,   1.41650800e+00,\n",
       "         1.44454100e+00,   1.44801800e+00,   1.46822400e+00,\n",
       "         1.46979900e+00,   1.47412300e+00,   1.47736300e+00,\n",
       "         1.48642900e+00,   1.49836200e+00,   1.51607300e+00,\n",
       "         1.52864000e+00,   1.52930700e+00,   1.53543800e+00,\n",
       "         1.55261800e+00,   1.60305700e+00,   1.60738700e+00,\n",
       "         1.61894200e+00,   1.62081600e+00,   1.63269200e+00,\n",
       "         1.63309700e+00])"
      ]
     },
     "execution_count": 197,
     "metadata": {},
     "output_type": "execute_result"
    }
   ],
   "source": [
    "t[-1]"
   ]
  },
  {
   "cell_type": "code",
   "execution_count": 195,
   "metadata": {
    "collapsed": false,
    "deletable": true,
    "editable": true
   },
   "outputs": [
    {
     "data": {
      "text/plain": [
       "(100,)"
      ]
     },
     "execution_count": 195,
     "metadata": {},
     "output_type": "execute_result"
    }
   ],
   "source": [
    "shape(t[10])"
   ]
  },
  {
   "cell_type": "code",
   "execution_count": null,
   "metadata": {
    "collapsed": true,
    "deletable": true,
    "editable": true
   },
   "outputs": [],
   "source": []
  }
 ],
 "metadata": {
  "kernelspec": {
   "display_name": "Python 3",
   "language": "python",
   "name": "python3"
  },
  "language_info": {
   "codemirror_mode": {
    "name": "ipython",
    "version": 3
   },
   "file_extension": ".py",
   "mimetype": "text/x-python",
   "name": "python",
   "nbconvert_exporter": "python",
   "pygments_lexer": "ipython3",
   "version": "3.5.2"
  }
 },
 "nbformat": 4,
 "nbformat_minor": 2
}
